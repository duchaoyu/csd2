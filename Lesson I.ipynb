{
 "cells": [
  {
   "cell_type": "markdown",
   "id": "666a918b",
   "metadata": {},
   "source": [
    "# Computational Structural Design II\n",
    "\n",
    "### Learning Goal: \n",
    "- how to draw a flowchart\n",
    "- how to translate a flowchart to pseudocode using **comments** in Python\n",
    "- how to write basic Python script, including variable, object type, `if` condition, `print`, list, `for` loop, mathematical operators"
   ]
  },
  {
   "cell_type": "markdown",
   "id": "3cea469e",
   "metadata": {},
   "source": [
    "## Question\n",
    "Suppose you have designed a cable-net made from steel cables. You are going to fabricate them and estimate the total cost. There are 2 different prices for cables longer than 3 meters and shorter than 3 meters, 5 Fr and 3 Fr correspondingly. Now you need to count how many cables are above 3 meters and how many are below, to calculate the cost. \n",
    "\n",
    "| Cable No. | Length (m) |\n",
    "| :---: | :---: |\n",
    "| 1 | 1.6 |\n",
    "| 2 | 3.6 |\n",
    "| 3 | 2.4 |\n",
    "| 4 | 3.4 |\n",
    "| 5 | 2.7 |\n",
    "| 6 | 2.8 |\n",
    "| 7 | 3.3 |\n",
    "| 8 | 3.1 |\n",
    "| 9 | 3.7 |\n",
    "| 10 | 1.8 |\n",
    "| 11 | 1.8 | \n",
    "| 12 | 2.6 | "
   ]
  },
  {
   "cell_type": "markdown",
   "id": "c1a6b01e",
   "metadata": {},
   "source": [
    "## Solution Part 1: check the length of one cable\n",
    "Let's first break this problem down into small steps. Firstly, you could pick one cable and check whether its length is larger than 3 m. Secondly, you could repeat the first step to check all the cables, and then multiply the number of cables with the cost."
   ]
  },
  {
   "cell_type": "markdown",
   "id": "7dc27f27",
   "metadata": {},
   "source": [
    "### 1. Draw Flowchart\n",
    "Firstly, we can draw a [**flowchart**](https://app.gitbook.com/o/-M57B1lKy7REE1wfeNSt/s/-M730QpQnbAMvz44bqhc/learn-to-code/i.-my-first-python-script/cheat-sheet#flowchart). \n",
    "\n",
    "![flowchart](img/week1_dia.png)\n",
    "\n"
   ]
  },
  {
   "cell_type": "markdown",
   "id": "f070d8fa",
   "metadata": {},
   "source": [
    "### 2. Write pseudocode\n",
    "Firstly, we could convert our flowchart to [**pseudocode**](https://en.wikipedia.org/wiki/Pseudocode#:~:text=In%20computer%20science%2C%20pseudocode%20is,reading%20rather%20than%20machine%20reading.), a plain-English version of the flowchart. \n",
    "\n",
    "The pseudocode are written in Python [**comments**](https://www.w3schools.com/python/python_comments.asp), which starts with a `#` and will not be excuated when we run the code. Comments help us to organize the logic when we start to write code, as well as in the future to keep track of and to understand the code. You can type `#` in front of the line you want to comment out. If you want to comment several lines, you can select the lines that need to be commented out, and press `ctrl + /`. "
   ]
  },
  {
   "cell_type": "code",
   "execution_count": 5,
   "id": "ac764efb",
   "metadata": {},
   "outputs": [],
   "source": [
    "# pick one cable\n",
    "# if length larger than 3?\n",
    "    # long cable \n",
    "# else\n",
    "#     short cable"
   ]
  },
  {
   "cell_type": "markdown",
   "id": "c4ceaafa",
   "metadata": {},
   "source": [
    "### 3. Write your code\n",
    "We could turn the pseudocode line by line into code. "
   ]
  },
  {
   "cell_type": "code",
   "execution_count": 6,
   "id": "ac574e72",
   "metadata": {},
   "outputs": [
    {
     "name": "stdout",
     "output_type": "stream",
     "text": [
      "This is a short cable.\n"
     ]
    }
   ],
   "source": [
    "# pick one cable\n",
    "cable_length = 1.6\n",
    "# if length bigger than 3?\n",
    "if cable_length > 3:\n",
    "    # long cable \n",
    "    print(\"This is a long cable.\")\n",
    "# else\n",
    "else:\n",
    "    # short cable\n",
    "    print(\"This is a short cable.\")"
   ]
  },
  {
   "cell_type": "code",
   "execution_count": null,
   "id": "2902e48a",
   "metadata": {},
   "outputs": [],
   "source": []
  }
 ],
 "metadata": {
  "kernelspec": {
   "display_name": "Python 3",
   "language": "python",
   "name": "python3"
  },
  "language_info": {
   "codemirror_mode": {
    "name": "ipython",
    "version": 3
   },
   "file_extension": ".py",
   "mimetype": "text/x-python",
   "name": "python",
   "nbconvert_exporter": "python",
   "pygments_lexer": "ipython3",
   "version": "3.8.12"
  }
 },
 "nbformat": 4,
 "nbformat_minor": 5
}
